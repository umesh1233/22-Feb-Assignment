{
 "cells": [
  {
   "cell_type": "code",
   "execution_count": 2,
   "id": "68b5b3db-a27c-447b-ab58-d885f0d8f0fb",
   "metadata": {},
   "outputs": [
    {
     "name": "stderr",
     "output_type": "stream",
     "text": [
      "Some characters could not be decoded, and were replaced with REPLACEMENT CHARACTER.\n"
     ]
    },
    {
     "name": "stdout",
     "output_type": "stream",
     "text": [
      "Total  0 videos found\n",
      "no videos found\n"
     ]
    }
   ],
   "source": [
    "#Q.1\n",
    "from bs4 import BeautifulSoup\n",
    " \n",
    "Web_url = \"https://i.ytimg.com/vi/0s6hAsFGxYE/hqdefault.jpg?s…Rg5IGMocjAP&rs=AOn4CLAFvkey1eyDuG3WOpaPovWVNy2Yvg\"\n",
    " \n",
    "\n",
    "r = requests.get(Web_url)\n",
    " \n",
    "\n",
    "soup = BeautifulSoup(r.content, 'html.parser')\n",
    " \n",
    "video_tags = soup.findAll('video')\n",
    "print(\"Total \", len(video_tags), \"videos found\")\n",
    " \n",
    "if len(video_tags) != 0:\n",
    "    for video_tag in video_tags:\n",
    "        video_url = video_tag.find(\"a\")['href']\n",
    "        print(video_url)\n",
    "else:\n",
    "    print(\"no videos found\")"
   ]
  },
  {
   "cell_type": "code",
   "execution_count": 9,
   "id": "40a26a54-c6c0-482a-9a81-6b9fe1054bdb",
   "metadata": {},
   "outputs": [
    {
     "name": "stdout",
     "output_type": "stream",
     "text": [
      "Title of the website is : \n",
      "India's NO.1 Batch for Class 10th - UDAAN ⚡ Launching Today !! Check Description. - YouTube\n"
     ]
    }
   ],
   "source": [
    "#Q.3\n",
    "import requests\n",
    "from bs4 import BeautifulSoup\n",
    "url = 'https://www.youtube.com/watch?v=0s6hAsFGxYE'\n",
    "reqs = requests.get(url)\n",
    "soup = BeautifulSoup(reqs.text, 'html.parser')\n",
    "print(\"Title of the website is : \")\n",
    "for title in soup.find_all('title'):\n",
    "    print(title.get_text())"
   ]
  },
  {
   "cell_type": "code",
   "execution_count": null,
   "id": "f41493dd-3417-446f-a2b0-8c5f39d71a1a",
   "metadata": {},
   "outputs": [],
   "source": []
  }
 ],
 "metadata": {
  "kernelspec": {
   "display_name": "Python 3 (ipykernel)",
   "language": "python",
   "name": "python3"
  },
  "language_info": {
   "codemirror_mode": {
    "name": "ipython",
    "version": 3
   },
   "file_extension": ".py",
   "mimetype": "text/x-python",
   "name": "python",
   "nbconvert_exporter": "python",
   "pygments_lexer": "ipython3",
   "version": "3.10.8"
  }
 },
 "nbformat": 4,
 "nbformat_minor": 5
}
